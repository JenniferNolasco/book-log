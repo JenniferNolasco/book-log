{
 "cells": [
  {
   "cell_type": "markdown",
   "metadata": {},
   "source": [
    "### Creating the Dataframe"
   ]
  },
  {
   "source": [
    "import pandas as pd\n",
    "\n",
    "books_dict = {\n",
    "    \"Title\":[\"Jane Eyre\", \"The 7 Habits of Highly Effective People\", \"The Seven Husbands of Evelyn Hugo\"],\n",
    "    \"Rating\":[1.0, 5.0, 5.0],\n",
    "    \"Author First Name\":[\"Charlotte\", \"Stephen\", \"Taylor Jenkins\"],\n",
    "    \"Author Last Name\":[\"Brontë\", \"Covey\", \"Reid\"],\n",
    "    \"Month Finished\":[\"January\", \"June\", \"June\"],\n",
    "    \"Year Finished\":[2020, 2020, 2020],\n",
    "    \"Year Published\":[1847, 1989, 2017],\n",
    "    \"Pages\":[480, 381, 400]\n",
    "}\n",
    "\n",
    "books = pd.DataFrame(books_dict)\n",
    "books.head()"
   ],
   "cell_type": "code",
   "metadata": {},
   "execution_count": 4,
   "outputs": [
    {
     "output_type": "execute_result",
     "data": {
      "text/plain": [
       "                                     Title  Rating Author First Name  \\\n",
       "0                                Jane Eyre     1.0         Charlotte   \n",
       "1  The 7 Habits of Highly Effective People     5.0           Stephen   \n",
       "2        The Seven Husbands of Evelyn Hugo     5.0    Taylor Jenkins   \n",
       "\n",
       "  Author Last Name Month Finished  Year Finished  Year Published  Pages  \n",
       "0           Brontë        January           2020            1847    480  \n",
       "1            Covey           June           2020            1989    381  \n",
       "2             Reid           June           2020            2017    400  "
      ],
      "text/html": "<div>\n<style scoped>\n    .dataframe tbody tr th:only-of-type {\n        vertical-align: middle;\n    }\n\n    .dataframe tbody tr th {\n        vertical-align: top;\n    }\n\n    .dataframe thead th {\n        text-align: right;\n    }\n</style>\n<table border=\"1\" class=\"dataframe\">\n  <thead>\n    <tr style=\"text-align: right;\">\n      <th></th>\n      <th>Title</th>\n      <th>Rating</th>\n      <th>Author First Name</th>\n      <th>Author Last Name</th>\n      <th>Month Finished</th>\n      <th>Year Finished</th>\n      <th>Year Published</th>\n      <th>Pages</th>\n    </tr>\n  </thead>\n  <tbody>\n    <tr>\n      <th>0</th>\n      <td>Jane Eyre</td>\n      <td>1.0</td>\n      <td>Charlotte</td>\n      <td>Brontë</td>\n      <td>January</td>\n      <td>2020</td>\n      <td>1847</td>\n      <td>480</td>\n    </tr>\n    <tr>\n      <th>1</th>\n      <td>The 7 Habits of Highly Effective People</td>\n      <td>5.0</td>\n      <td>Stephen</td>\n      <td>Covey</td>\n      <td>June</td>\n      <td>2020</td>\n      <td>1989</td>\n      <td>381</td>\n    </tr>\n    <tr>\n      <th>2</th>\n      <td>The Seven Husbands of Evelyn Hugo</td>\n      <td>5.0</td>\n      <td>Taylor Jenkins</td>\n      <td>Reid</td>\n      <td>June</td>\n      <td>2020</td>\n      <td>2017</td>\n      <td>400</td>\n    </tr>\n  </tbody>\n</table>\n</div>"
     },
     "metadata": {},
     "execution_count": 4
    }
   ]
  },
  {
   "cell_type": "markdown",
   "metadata": {},
   "source": [
    "### Adding New Books"
   ]
  },
  {
   "cell_type": "code",
   "execution_count": 5,
   "metadata": {},
   "outputs": [],
   "source": [
    "def addBook(title, rating, authorFN, authorLN, monthFin, yearFin, yearPub, pages):\n",
    "    books.loc[len(books.index)] = [title, rating, authorFN, authorLN, monthFin, yearFin, yearPub, pages]"
   ]
  },
  {
   "cell_type": "code",
   "execution_count": 6,
   "metadata": {},
   "outputs": [],
   "source": [
    "# June 2020\n",
    "addBook(\"Master Your Emotions\", 2, \"Thibaut\", \"Meurisse\", \"June\", 2020, 2018, 196)\n",
    "addBook(\"The Perks of Being a Wallflower\", 5, \"Stephen\", \"Chbosky\", \"June\", 2020, 1999, 224)\n",
    "addBook(\"Where the Crawdads Sing\", 3, \"Delia\", \"Owens\", \"June\", 2020, 2018, 368)\n",
    "\n",
    "# July 2020\n",
    "addBook(\"This is Your Brain on Birth Control\", 4, \"Sarah E.\", \"Hill\", \"July\", 2020, 2019, 320)\n",
    "\n",
    "# September 2020\n",
    "addBook(\"The Martian\", 3, \"Andy\", \"Weir\", \"September\", 2020, 2011, 369)\n",
    "\n",
    "# November 2020\n",
    "addBook(\"Ready Player One\", 4, \"Ernest\", \"Cline\", \"November\", 2020, 2011, 374)\n",
    "\n",
    "# December 2020\n",
    "addBook(\"Harry Potter and the Sorcerer's Stone\", 5, \"J. K.\", \"Rowling\", \"December\", 2020, 1997, 320)\n",
    "\n",
    "# January 2021\n",
    "addBook(\"Harry Potter and the Chamber of Secrets\", 4.5, \"J. K.\", \"Rowling\", \"January\", 2021, 1998, 368)\n",
    "addBook(\"Harry Potter and the Prizoner of Azkaban\", 4, \"J. K.\", \"Rowling\", \"January\", 2021, 1999, 448)\n",
    "\n",
    "# February 2021\n",
    "addBook(\"Harry Potter and the Goblet of Fire\", 5, \"J. K.\", \"Rowling\", \"February\", 2021, 2000, 737)\n",
    "addBook(\"Harry Potter and the Order of the Phoenix\", 5, \"J. K.\", \"Rowling\", \"February\", 2021, 2003, 870)\n",
    "addBook(\"Love Lettering\", 2, \"Kate\", \"Clayborn\", \"February\", 2021, 1998, 207)\n",
    "addBook(\"Harry Potter and the Half Blood Prince\", 4, \"J. K.\", \"Rowling\", \"February\", 2021, 2005, 652)\n",
    "addBook(\"Demian\", 3, \"Hermann\", \"Hesse\", \"February\", 2021, 1919, 390)\n",
    "\n",
    "# March 2021\n",
    "addBook(\"Witchery\", 3, \"Juliet\", \"Diaz\", \"March\", 2021, 2019, 237)\n",
    "addBook(\"After I do\", 5, \"Taylor Jenkins\", \"Reid\", \"March\", 2021, 2014, 338)\n",
    "addBook(\"Harry Potter and the Deathly Hallows\", 3, \"J. K.\", \"Rowling\", \"March\", 2021, 2007, 759)\n",
    "addBook(\"Dracula\", 2, \"Bram\", \"Stoker\", \"March\", 2021, 1897, 418)\n",
    "\n",
    "# April 2021\n",
    "addBook(\"The Silent Patient\", 5, \"Alex\", \"Michaelides\", \"Aril\", 2021, 2019, 313)\n",
    "addBook(\"The Night Circus\", 3, \"Erin\", \"Morgenstern\", \"Aril\", 2021, 2011, 392)\n",
    "addBook(\"The City of Ember\", 4.5, \"Jeanne\", \"DuPrau\", \"Aril\", 2021, 2003, 270)\n",
    "addBook(\"The People of Sparks\", 4.5, \"Jeanne\", \"DuPrau\", \"Aril\", 2021, 2004, 338)\n",
    "addBook(\"Little Fires Everywhere\", 5, \"Celeste\", \"Ng\", \"Aril\", 2021, 2017, 352)\n",
    "addBook(\"The Catcher in the Rye\", 1.5, \"J. D.\", \"Salinger\", \"Aril\", 2021, 1951, 277)\n",
    "addBook(\"Blink\", 2.5, \"Malcom\", \"Gladwell\", \"April\", 2021, 2005, 320)\n",
    "\n",
    "# May 2021\n",
    "addBook(\"Little House Living\", 5, \"Merissa\", \"Alink\", \"May\", 2021, 2015, 320)\n",
    "addBook(\"The Prophet of Yonwood\", 5, \"Jeanne\", \"DuPrau\", \"May\", 2021, 2006, 292)\n",
    "addBook(\"The Umbrella Conspiracy\", 3, \"S. D.\", \"Perry\", \"May\", 2021, 1998, 262)\n",
    "addBook(\"The Universe: ...\", 3, \"John\", \"Brockman\", \"May\", 2021, 2014, 379)\n",
    "addBook(\"Seven Brief Lessons on Physics\", 2, \"Carlo\", \"Rouelli\", \"May\", 2021, 2016, 87)\n",
    "addBook(\"In Five Years\", 5, \"Rebecca\", \"Serle\", \"May\", 2021, 2020, 251)\n",
    "\n",
    "# June 2021\n",
    "addBook(\"Inferno\", 3, \"Dante\", \"Alighieri\", \"June\", 2021, 1472, 270)\n",
    "\n"
   ]
  },
  {
   "cell_type": "markdown",
   "metadata": {},
   "source": [
    "### Data Exploration"
   ]
  },
  {
   "cell_type": "code",
   "execution_count": 7,
   "metadata": {},
   "outputs": [
    {
     "output_type": "execute_result",
     "data": {
      "text/plain": [
       "25"
      ]
     },
     "metadata": {},
     "execution_count": 7
    }
   ],
   "source": [
    "read2021 = books[\"Year Finished\"]==2021\n",
    "read2021.sum()"
   ]
  },
  {
   "cell_type": "code",
   "execution_count": null,
   "metadata": {},
   "outputs": [],
   "source": []
  }
 ],
 "metadata": {
  "kernelspec": {
   "name": "python3",
   "display_name": "Python 3.9.5 64-bit"
  },
  "language_info": {
   "codemirror_mode": {
    "name": "ipython",
    "version": 3
   },
   "file_extension": ".py",
   "mimetype": "text/x-python",
   "name": "python",
   "nbconvert_exporter": "python",
   "pygments_lexer": "ipython3",
   "version": "3.9.5"
  },
  "metadata": {
   "interpreter": {
    "hash": "e3f6b2899b3ad368d3f07fa550bcac2dc393cb8299cc3063119d0ee03201a4c9"
   }
  },
  "interpreter": {
   "hash": "7812ea015bdcee6f23a998adcdd2ef97c151c0c241b7b7070987d9313e41299d"
  }
 },
 "nbformat": 4,
 "nbformat_minor": 2
}